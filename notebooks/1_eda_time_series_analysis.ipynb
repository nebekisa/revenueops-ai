{
 "cells": [
  {
   "cell_type": "code",
   "execution_count": 5,
   "id": "8b0868a3",
   "metadata": {},
   "outputs": [],
   "source": [
    "import pandas as pd\n",
    "import numpy as np\n",
    "import os\n",
    "from pathlib import Path\n"
   ]
  },
  {
   "cell_type": "code",
   "execution_count": 7,
   "id": "bcd131fe",
   "metadata": {},
   "outputs": [],
   "source": [
    "# -----------------------------------------------------------------------------\n",
    "DATA_DIR = Path(\"data/raw\")\n",
    "OUTPUT_FILE = DATA_DIR / \"sales_data.csv\"\n",
    "# Filter criteria\n",
    "STORE_ID = 1              # Focus on one store (can be parameterized later)\n",
    "FAMILY_CATEGORY = \"GROCERY I\"  # High-volume, stable category\n",
    "TARGET_METRIC = \"sales\"   # We are forecasting revenue\n",
    "\n",
    "# Ensure directories exist\n",
    "os.makedirs(DATA_DIR, exist_ok=True)"
   ]
  },
  {
   "cell_type": "code",
   "execution_count": 8,
   "id": "686ca968",
   "metadata": {},
   "outputs": [
    {
     "name": "stdout",
     "output_type": "stream",
     "text": [
      "🔍 Loading raw datasets...\n",
      "✅ Loaded 3,000,888 sales records\n",
      "✅ Loaded 350 holiday records\n",
      "✅ Loaded 1,218 oil price records\n",
      "✅ Loaded 54 store records\n"
     ]
    }
   ],
   "source": [
    "#-----------------------------------------------------------------------------\n",
    "# 2. LOAD RAW DATASETS\n",
    "# -----------------------------------------------------------------------------\n",
    "print(\"🔍 Loading raw datasets...\")\n",
    "\n",
    "# Main sales data\n",
    "train_df = pd.read_csv(\n",
    "    DATA_DIR / \"train.csv\",\n",
    "    parse_dates=[\"date\"],\n",
    "    dtype={\n",
    "        \"store_nbr\": \"int8\",\n",
    "        \"family\": \"category\",\n",
    "        \"sales\": \"float32\",\n",
    "        \"onpromotion\": \"uint16\"\n",
    "    }\n",
    ")\n",
    "\n",
    "# Holidays\n",
    "holidays_df = pd.read_csv(\n",
    "    DATA_DIR / \"holidays_events.csv\",\n",
    "    parse_dates=[\"date\"]\n",
    ")\n",
    "\n",
    "# Oil prices (economic signal)\n",
    "oil_df = pd.read_csv(\n",
    "    DATA_DIR / \"oil.csv\",\n",
    "    parse_dates=[\"date\"]\n",
    ")\n",
    "\n",
    "# Stores metadata\n",
    "stores_df = pd.read_csv(DATA_DIR / \"stores.csv\")\n",
    "\n",
    "print(f\"✅ Loaded {len(train_df):,} sales records\")\n",
    "print(f\"✅ Loaded {len(holidays_df):,} holiday records\")\n",
    "print(f\"✅ Loaded {len(oil_df):,} oil price records\")\n",
    "print(f\"✅ Loaded {len(stores_df):,} store records\")\n"
   ]
  },
  {
   "cell_type": "code",
   "execution_count": 9,
   "id": "8752af84",
   "metadata": {},
   "outputs": [
    {
     "name": "stdout",
     "output_type": "stream",
     "text": [
      "\n",
      "🎯 Filtering to Store 1, Product Family: 'GROCERY I'...\n",
      "✅ Filtered to 1,684 daily records\n",
      "\n",
      "📅 Resampling to monthly total sales...\n",
      "✅ Monthly aggregation complete\n",
      "        date  revenue\n",
      "0 2013-01-01  53397.0\n",
      "1 2013-02-01  45447.0\n",
      "2 2013-03-01  52736.0\n",
      "3 2013-04-01  54654.0\n",
      "4 2013-05-01  55290.0\n"
     ]
    }
   ],
   "source": [
    "# -----------------------------------------------------------------------------\n",
    "# 3. FILTER TO TARGET STORE & PRODUCT FAMILY\n",
    "# -----------------------------------------------------------------------------\n",
    "print(f\"\\n🎯 Filtering to Store {STORE_ID}, Product Family: '{FAMILY_CATEGORY}'...\")\n",
    "\n",
    "filtered_df = train_df[\n",
    "    (train_df[\"store_nbr\"] == STORE_ID) &\n",
    "    (train_df[\"family\"] == FAMILY_CATEGORY)\n",
    "].copy()\n",
    "\n",
    "if filtered_df.empty:\n",
    "    raise ValueError(f\"No data found for Store {STORE_ID}, Family '{FAMILY_CATEGORY}'\")\n",
    "\n",
    "print(f\"✅ Filtered to {len(filtered_df):,} daily records\")\n",
    "\n",
    "# -----------------------------------------------------------------------------\n",
    "# 4. RESAMPLE TO MONTHLY REVENUE (MS = Month Start)\n",
    "# -----------------------------------------------------------------------------\n",
    "print(\"\\n📅 Resampling to monthly total sales...\")\n",
    "\n",
    "# Set date as index\n",
    "filtered_df.set_index(\"date\", inplace=True)\n",
    "\n",
    "# Resample: monthly sum of sales\n",
    "monthly_df = filtered_df[[TARGET_METRIC]].resample(\"MS\").sum()\n",
    "\n",
    "# Reset index\n",
    "monthly_df = monthly_df.reset_index()\n",
    "monthly_df.rename(columns={TARGET_METRIC: \"revenue\"}, inplace=True)\n",
    "\n",
    "print(\"✅ Monthly aggregation complete\")\n",
    "print(monthly_df.head())\n"
   ]
  },
  {
   "cell_type": "code",
   "execution_count": 10,
   "id": "4004f9c2",
   "metadata": {},
   "outputs": [
    {
     "name": "stdout",
     "output_type": "stream",
     "text": [
      "\n",
      "🎄 Adding holiday flags...\n",
      "✅ Holiday flags added\n"
     ]
    }
   ],
   "source": [
    "# 5. ADD HOLIDAY FLAG (Monthly Level)\n",
    "# -----------------------------------------------------------------------------\n",
    "print(\"\\n🎄 Adding holiday flags...\")\n",
    "\n",
    "# Extract month-year from holidays\n",
    "holidays_df[\"date\"] = pd.to_datetime(holidays_df[\"date\"])\n",
    "holidays_df[\"year_month\"] = holidays_df[\"date\"].dt.to_period(\"M\")\n",
    "holidays_df = holidays_df[\n",
    "    (holidays_df[\"type\"] == \"Holiday\") &\n",
    "    (holidays_df[\"transferred\"] == False)\n",
    "]\n",
    "\n",
    "# Get unique holiday months\n",
    "holiday_months = holidays_df[\"year_month\"].drop_duplicates()\n",
    "\n",
    "# Add flag to monthly data\n",
    "monthly_df[\"year_month\"] = pd.to_datetime(monthly_df[\"date\"]).dt.to_period(\"M\")\n",
    "monthly_df[\"is_holiday_month\"] = monthly_df[\"year_month\"].isin(holiday_months).astype(int)\n",
    "\n",
    "# Drop helper column\n",
    "monthly_df.drop(columns=[\"year_month\"], inplace=True)\n",
    "\n",
    "print(\"✅ Holiday flags added\")"
   ]
  },
  {
   "cell_type": "code",
   "execution_count": null,
   "id": "2b1c4662",
   "metadata": {},
   "outputs": [],
   "source": []
  },
  {
   "cell_type": "code",
   "execution_count": 12,
   "id": "a794a6bb",
   "metadata": {},
   "outputs": [
    {
     "name": "stdout",
     "output_type": "stream",
     "text": [
      "\n",
      "🛢️ Merging oil prices (modern pandas style)...\n",
      "✅ Oil price merged and cleaned (no deprecated methods)\n"
     ]
    }
   ],
   "source": [
    "# -----------------------------------------------------------------------------\n",
    "# 6. ADD OIL PRICE (Monthly Average) - Modern Pandas Version\n",
    "# -----------------------------------------------------------------------------\n",
    "print(\"\\n🛢️ Merging oil prices (modern pandas style)...\")\n",
    "\n",
    "# Prepare oil data\n",
    "oil_df[\"year_month\"] = pd.to_datetime(oil_df[\"date\"]).dt.to_period(\"M\")\n",
    "oil_monthly = oil_df.groupby(\"year_month\")[\"dcoilwtico\"].mean().reset_index()\n",
    "oil_monthly[\"year_month\"] = pd.PeriodIndex(oil_monthly[\"year_month\"], freq=\"M\")\n",
    "\n",
    "# Prepare monthly_df\n",
    "monthly_df[\"year_month\"] = pd.PeriodIndex(pd.to_datetime(monthly_df[\"date\"]).dt.to_period(\"M\"), freq=\"M\")\n",
    "\n",
    "# Merge\n",
    "monthly_df = pd.merge(monthly_df, oil_monthly, how=\"left\", on=\"year_month\")\n",
    "monthly_df.rename(columns={\"dcoilwtico\": \"avg_oil_price\"}, inplace=True)\n",
    "monthly_df.drop(columns=[\"year_month\"], inplace=True)\n",
    "\n",
    "# Fill missing oil prices — Modern, safe way\n",
    "monthly_df[\"avg_oil_price\"] = (\n",
    "    monthly_df[\"avg_oil_price\"]\n",
    "    .ffill()\n",
    "    .bfill()\n",
    ")\n",
    "\n",
    "print(\"✅ Oil price merged and cleaned (no deprecated methods)\")"
   ]
  },
  {
   "cell_type": "code",
   "execution_count": 13,
   "id": "ec497f0f",
   "metadata": {},
   "outputs": [
    {
     "name": "stdout",
     "output_type": "stream",
     "text": [
      "\n",
      "🧹 Final cleanup and export...\n",
      "✅ Clean dataset saved to data\\raw\\sales_data.csv\n",
      "📊 Final shape: (56, 5)\n",
      "\n",
      "📅 First 5 rows:\n",
      "        date  revenue  is_holiday_month  avg_oil_price  avg_oil_price\n",
      "0 2013-01-01  53397.0                 1          94.76          94.76\n",
      "1 2013-02-01  45447.0                 1          95.31          95.31\n",
      "2 2013-03-01  52736.0                 1          92.94          92.94\n",
      "3 2013-04-01  54654.0                 1          92.02          92.02\n",
      "4 2013-05-01  55290.0                 1          94.51          94.51\n",
      "\n",
      "✅ DATA PREPROCESSING COMPLETE — READY FOR EDA & FORECASTING\n"
     ]
    }
   ],
   "source": [
    "# 7. FINAL CLEANUP & SAVE\n",
    "# -----------------------------------------------------------------------------\n",
    "print(\"\\n🧹 Final cleanup and export...\")\n",
    "\n",
    "# Sort by date\n",
    "monthly_df = monthly_df.sort_values(\"date\").reset_index(drop=True)\n",
    "\n",
    "# Ensure correct data types\n",
    "monthly_df[\"revenue\"] = np.round(monthly_df[\"revenue\"], 2)\n",
    "monthly_df[\"avg_oil_price\"] = np.round(monthly_df[\"avg_oil_price\"], 2)\n",
    "\n",
    "# Save to CSV\n",
    "monthly_df[[\"date\", \"revenue\", \"is_holiday_month\", \"avg_oil_price\"]].to_csv(OUTPUT_FILE, index=False)\n",
    "\n",
    "print(f\"✅ Clean dataset saved to {OUTPUT_FILE}\")\n",
    "print(f\"📊 Final shape: {monthly_df.shape}\")\n",
    "print(\"\\n📅 First 5 rows:\")\n",
    "print(monthly_df.head())\n",
    "\n",
    "print(\"\\n✅ DATA PREPROCESSING COMPLETE — READY FOR EDA & FORECASTING\")"
   ]
  }
 ],
 "metadata": {
  "kernelspec": {
   "display_name": ".venv",
   "language": "python",
   "name": "python3"
  },
  "language_info": {
   "codemirror_mode": {
    "name": "ipython",
    "version": 3
   },
   "file_extension": ".py",
   "mimetype": "text/x-python",
   "name": "python",
   "nbconvert_exporter": "python",
   "pygments_lexer": "ipython3",
   "version": "3.13.1"
  }
 },
 "nbformat": 4,
 "nbformat_minor": 5
}
